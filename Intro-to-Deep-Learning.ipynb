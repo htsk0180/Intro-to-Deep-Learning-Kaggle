{
 "cells": [
  {
   "cell_type": "markdown",
   "id": "bf544e3e",
   "metadata": {},
   "source": [
    "# Derin Öğrenmeye Giriş"
   ]
  },
  {
   "cell_type": "markdown",
   "id": "49517192",
   "metadata": {},
   "source": [
    "1-) Tek Norönlu Model Yapısı:"
   ]
  },
  {
   "cell_type": "markdown",
   "id": "5d86d6bf",
   "metadata": {},
   "source": [
    "Merhabalar,\n",
    "Derin Öğrenmeye Giriş kursu kapsamında tensorflow ve keras kulllanarak derin sinir ağlarını nasıl oluşturduğumuzu adım adım öğreneceğiz.\n",
    "Makine öğrenmesinin iki temel problemi olan sınıflandırma ve regresyona sinir ağı mimarisini uygulayacağız.\n",
    "Stokastik gradyan inişi kullanarak sinir ağımızı eğiteceğiz.\n",
    "Dropout ve batch normalization ve diğer farklı teknikleri kullanarak sinir ağımızın performansını artıracağız."
   ]
  },
  {
   "cell_type": "markdown",
   "id": "f8aad581",
   "metadata": {},
   "source": [
    "Basit doğrulasal bir birimi y = wx+b ile temsil ederiz. Burada y tahmin edilen değer, x girdi, w ağırlık ve b ise bias.\n",
    "Derin öğrenme yaklaşımlarında klasik makine öğrenmesi yaklaşımları gibi w yani ağırlık değerlerini güncelleyerek, verilen örnekleri linear doğruya yakınsamaya çalışırız. "
   ]
  },
  {
   "cell_type": "code",
   "execution_count": 1,
   "id": "4d2da098",
   "metadata": {},
   "outputs": [],
   "source": [
    "# Basit doğrusal birimi keras ile koda dökelim.\n",
    "\n",
    "# keras kütüphanesini import edelim.\n",
    "from tensorflow import keras\n",
    "from tensorflow.keras import layers"
   ]
  },
  {
   "cell_type": "code",
   "execution_count": 3,
   "id": "ee7bcfd8",
   "metadata": {},
   "outputs": [],
   "source": [
    "# bir linear birim içeren ağımızı inşa edelim.\n",
    "model = keras.Sequential([\n",
    "    layers.Dense(units=1, input_shape=[3])\n",
    "])"
   ]
  },
  {
   "cell_type": "markdown",
   "id": "1843f3d8",
   "metadata": {},
   "source": [
    "Şimdi yukarıdaki modelimizi inceleyelim. Modelimize keras'ın Sequential sınıfından bir nesne oluşturarak başladık. Ve bu nesneyi model ismine atadık. Bu modelin içerisinde tek bir nöron olacağı için unit=1 seçtik. Bu tek bir katmanda olacağı için tek Dense ekledik. Diyelim iki iki katmanlı bir model olacak: layers.Dense(units=kaç adet nöron olacağı) şeklinde bir Dense yani katman daha eklememiz gerekecekti.\n",
    "Peki input_shape olarak belirttiğimiz nedir.\n",
    "Bu parametre ise modele vericek girdidir. Yani modele 3 adet değişken verilir( y = wx+b deki x değerleri x1,x2,x3 şeklinde ) ve katmanımızda tek unit ( units = 1 ) olduğundan dolayı 1 adet tahmin ya da sınıflandırma beklenir.\n",
    "Son olarak bu model toplamda 4 adet parametre üzerinde çalışır. ( 3 adet x ve bir adet y değeri )"
   ]
  },
  {
   "cell_type": "code",
   "execution_count": 4,
   "id": "7465fb09",
   "metadata": {
    "scrolled": true
   },
   "outputs": [
    {
     "name": "stdout",
     "output_type": "stream",
     "text": [
      "Model: \"sequential\"\n",
      "_________________________________________________________________\n",
      " Layer (type)                Output Shape              Param #   \n",
      "=================================================================\n",
      " dense (Dense)               (None, 1)                 4         \n",
      "                                                                 \n",
      "=================================================================\n",
      "Total params: 4\n",
      "Trainable params: 4\n",
      "Non-trainable params: 0\n",
      "_________________________________________________________________\n"
     ]
    }
   ],
   "source": [
    "model.summary() # modelimize bakalım."
   ]
  },
  {
   "cell_type": "markdown",
   "id": "cd598916",
   "metadata": {},
   "source": [
    "2- ) Derin Sinir Ağları:"
   ]
  },
  {
   "cell_type": "markdown",
   "id": "f8f2881c",
   "metadata": {},
   "source": [
    "Aktivasyon fonksiyonları: y = wx+b denklemindeki y değerini kontrol etmek için yani sinir ağımızdaki nöronun aktif olup olmayacağına karar vermek için kullanılmaktadır. Aktivasyon fonksiyonları derin sinir ağları için önemli bir özelliktir. Aktivasyon fonksiyonları olmadan sinir ağları sadece doğrusal ilişkileri öğrenebilir. Veri uzayındaki verileri kullanarak farklı şekillerde eğriler oluşturabilmemiz için aktivasyon fonksiyonlarına ihtiyacımız vardır."
   ]
  },
  {
   "cell_type": "markdown",
   "id": "45f67c79",
   "metadata": {},
   "source": [
    "Giriş katmanımızda 3 farklı değişkenimiz olsun. Gizli katmanda ise 4 nöronlu 1 adet layer'ımız olsun. Giriş katmanındaki 3 değişkenin her biri, gizli katmandaki 4 adet nöronun her birine tam bağlantı yapacak şekilde bağlanır. Bu nöronlar içerisnde aktivasyon fonksiyonlarına tabi tutulur. Diyelim ki bir layer daha ekledik. Bu layer da 3 adet nöron var. İlk layerdaki nöronlardan gelen çıktılar aynı şekilde ikinci layerdaki norönlara tam bağlantı yapacak şekilde bağlanır. İlk layerdaki aktivasyon fonksiyonun aynısı kullılacağı gibi farklı bir aktivasyon fonksiyonu da kullanılabilir."
   ]
  },
  {
   "cell_type": "markdown",
   "id": "205e7bad",
   "metadata": {},
   "source": [
    "Şuana kadar elimizde ne var özetleyelim.\n",
    "    . 3 adet değişkenimiz var.\n",
    "    . Bu 3 adet değişkenimiz ilk layer'ımızdaki ( layers.Dense(units = 4 ,aktivasyon fonksiyonu, input_shape [3] ) 4 adet nörona tam bağlantılı şekilde bağlanır. Bu nöronlar çıkış verebilmek adına içinde aktivasyon fonksiyonunu tutar.\n",
    "    . İlk gizli katmanımızdan (layer 1) elde edilen çıkışlar ikinci layer'ımıza gelir ( layers.Dense(units = 3, aktivasyon fonk. ) Dikkat edilirse bu sefer input_shape'miz 4 oldu. Çünkü ilk layerımızdan 4 adet çıkış elde ettik. Bu çıkışlar ikinci layerımız için giriş oldu.\n",
    "    . İkinci layer'ımızdan gelen 3 adet çıkış ise Çıktı Katmanına verilecek. Çıktı katmanını regresyon ( bazı rastgele sayısal değerlerin tahmini ) görevlerinde aktivasyon fonksiyonu kullanmaz. Diğer görevlerde ( sınıflandırma ) çıktıda bir aktivasyon ( etkinleştirme ) işlevi gerekebilir.( layers.Dense(units = 1 ) )"
   ]
  },
  {
   "cell_type": "code",
   "execution_count": 2,
   "id": "6f424b5c",
   "metadata": {},
   "outputs": [],
   "source": [
    "# modelin inşası\n",
    "\n",
    "# ilgili kütüphanelerin yüklenmesi\n",
    "from tensorflow import keras\n",
    "from tensorflow.keras import layers\n"
   ]
  },
  {
   "cell_type": "code",
   "execution_count": 4,
   "id": "1820b87e",
   "metadata": {},
   "outputs": [],
   "source": [
    "# modelin oluşturulması\n",
    "model = keras.Sequential([\n",
    "    layers.Dense(units=4, activation='relu',input_shape=[2]),\n",
    "    layers.Dense(units=3, activation='relu'),\n",
    "    layers.Dense(units=1),\n",
    "])"
   ]
  },
  {
   "cell_type": "code",
   "execution_count": 5,
   "id": "7bc603dd",
   "metadata": {},
   "outputs": [
    {
     "name": "stdout",
     "output_type": "stream",
     "text": [
      "Model: \"sequential\"\n",
      "_________________________________________________________________\n",
      " Layer (type)                Output Shape              Param #   \n",
      "=================================================================\n",
      " dense (Dense)               (None, 4)                 12        \n",
      "                                                                 \n",
      " dense_1 (Dense)             (None, 3)                 15        \n",
      "                                                                 \n",
      " dense_2 (Dense)             (None, 1)                 4         \n",
      "                                                                 \n",
      "=================================================================\n",
      "Total params: 31\n",
      "Trainable params: 31\n",
      "Non-trainable params: 0\n",
      "_________________________________________________________________\n"
     ]
    }
   ],
   "source": [
    "model.summary()"
   ]
  },
  {
   "cell_type": "markdown",
   "id": "8803ef62",
   "metadata": {},
   "source": [
    "3-) Stochastic Gradient Descent"
   ]
  },
  {
   "cell_type": "markdown",
   "id": "84f873a3",
   "metadata": {},
   "source": [
    "İlk iki bölümde tam bağlantılı katmanların nasıl inşa edileceğini öğrendik. Ancak buradaki ağırlık değerleri (w) rastgele atandı. Bu ağırlıkları olabildiğince en iyi hale getirmek bizim amacımız. İşte buna öğrenme diyoruz. \n",
    "Bir ağı eğitmek verilen özellikleri hedefe dönüştürebilecek şekile getirebilmemiz için ağırlıkları en iyi şekilde ayarlamaktan geçer.\n",
    "Verilen veri ile hedef arasındaki ilişkiyi ağırlıkların en iyi şekilde temsil etmesi gerekir. \n",
    "Ağı eğitmemiz için eğitim verilerine ek olarak 2 şeye daha ihtiyacımız var. Bunlar kayıp fonksiyonu ( loss function - ağın tahminlerinin ne kadar iyi olduğunu ölçer ) ve iyileştirici ( optimizer - ağa ağırlıkların nasıl değiştirileceğini söyler )'dir."
   ]
  },
  {
   "cell_type": "markdown",
   "id": "8385e45d",
   "metadata": {},
   "source": [
    "3.1-) Kayıp fonksiyonu: "
   ]
  },
  {
   "cell_type": "markdown",
   "id": "f5022b2a",
   "metadata": {},
   "source": [
    "3.1-) Kayıp fonksiyonu hedefin gerçek değeri ile modelin ön gördüğü değer arasındaki eşitsizliği ölçer. Farklı problemler farklı kayıp fonksiyonu gerektirir. Örneğin regresyon problemlerindeki kayıp fonksiyonu Ortalama Mutlak Hata - mean absolute error- MAE'dir. Her y_pred ( tahmin edilen ) için y_true ( olması gereken çıktı ) MAE = | abs ( y_true, y_pred ) | ile ölçer."
   ]
  },
  {
   "cell_type": "markdown",
   "id": "85baa1af",
   "metadata": {},
   "source": [
    "Regresyon problemleri için görebileceğimiz farklı loss fonksiyonları MSE (mean-squared error - ortalama kare hatası) ve HUBER loss'dur. Bu kayıp fonksiyonların tamamı keras da mevcuttur."
   ]
  },
  {
   "cell_type": "markdown",
   "id": "099b4527",
   "metadata": {},
   "source": [
    "Kayıp fonksiyonun değeri ne kadar düşerse eğitim o kadar başarılıdır diyeceğiz.. şimdilik :)"
   ]
  },
  {
   "cell_type": "markdown",
   "id": "dc45a6a2",
   "metadata": {},
   "source": [
    "3.2-) Optimizer:"
   ]
  },
  {
   "cell_type": "markdown",
   "id": "e78965b0",
   "metadata": {},
   "source": [
    "Optimizer kaybı en aza indirmek için ağırlıkları ayarlayan bir algoritmadır.\n",
    "Derin öğrenmede kullanılan optimizasyon algoritmalarının neredeyse tamamı stokastik gradyan iniş adı verilen bir aileye aittir.Bunlar bir ağı adım adım eğiten yinelemeli algoritmalardır."
   ]
  },
  {
   "cell_type": "markdown",
   "id": "02ecff98",
   "metadata": {},
   "source": [
    "* Eğitim Nasıl Gerçekleşiyor?"
   ]
  },
  {
   "cell_type": "markdown",
   "id": "0b800e6f",
   "metadata": {},
   "source": [
    "Eğitim'in bir adımı ( epoch ) şu şekilde ilerler:"
   ]
  },
  {
   "cell_type": "markdown",
   "id": "8fedfc9a",
   "metadata": {},
   "source": [
    "1- Eğitim verilerini tahminde bulunmak adına sinir ağımız üzerinde çalıştırırız."
   ]
  },
  {
   "cell_type": "markdown",
   "id": "03e7418d",
   "metadata": {},
   "source": [
    "2-Tahminler ve gerçek değerler arasındaki kaybı ölçeriz."
   ]
  },
  {
   "cell_type": "markdown",
   "id": "06eb203e",
   "metadata": {},
   "source": [
    "3-Ağırlıkları kaybı daha az olacak şekilde güncelleriz."
   ]
  },
  {
   "cell_type": "markdown",
   "id": "4c1382d6",
   "metadata": {},
   "source": [
    "Son olarak kayıp istediğimiz kadar küçük olana kadar ya da daha fazla azalmayana kadar bu işlemleri tekrar tekrar yaparız."
   ]
  },
  {
   "cell_type": "markdown",
   "id": "76ae95f0",
   "metadata": {},
   "source": [
    "Her yenilemenin eğitim verisi örneğine mini batch ( genellikle batch de denir ) adı verilerken elimizdeki bütün eğitim verilerinin tamamını bir kez kullanmaya 1 epoch (epoch) denir."
   ]
  },
  {
   "cell_type": "markdown",
   "id": "09a4073a",
   "metadata": {},
   "source": [
    "Learning Rate ve Batch Size : Learning Rate ( öğrenme hızı ) modelin ne kadar hızlı öğrenmesi gerektiğidir. Önemli bir parametredir.Daha küçük öğrenme hızı ağın ağırlıklarının en iyi değerlerine yaklaşmadan önce daha fazla mini batch görmesi gerektiği anlamına gelir. Öğrenme hızı ve mini batch'lerin büyüklüğü SGD eğitiminin nasıl ilerlediği üzerinde en büyük etkiye sahip olan iki parametredir. Aralarındaki ilişki çok incedir. Bu parametreler için doğru seçim her zaman net değildir.( hiperparametreler ) En kullanışlı lr algoritması ADAM'dır.Adam, herhangi bir parametre ayarlaması olmadan çoğu problem için uygun hale getiren uyarlanabilir bir öğrenme hızına sahip bir SGD algoritmasıdır (bir anlamda \"kendi kendini ayarlama\" dır). Adam harika bir genel amaçlı optimizerdır."
   ]
  },
  {
   "cell_type": "code",
   "execution_count": 7,
   "id": "12579904",
   "metadata": {},
   "outputs": [],
   "source": [
    "# modelimize loss function ve optimizer'ın eklenmesi\n",
    "\n",
    "model.compile(\n",
    "    optimizer=\"adam\",\n",
    "    loss=\"mae\",\n",
    ")"
   ]
  },
  {
   "cell_type": "markdown",
   "id": "0694eb71",
   "metadata": {},
   "source": [
    "Loss ve optimizer'ı bir dizeyle belirttik. Bunlara doğrudan Keras API ile de erişebiliriz.( parametreleri ayarlamak istiyorsak ) Ancak biz şimdilik varsayılan neyse o şekilde kullanalım."
   ]
  },
  {
   "cell_type": "markdown",
   "id": "0932404e",
   "metadata": {},
   "source": [
    "# Uygulama"
   ]
  },
  {
   "cell_type": "markdown",
   "id": "8a475d4b",
   "metadata": {},
   "source": [
    "Artık derin öğrenme modellerini eğitmek için ihtiyacımız olan herşeyi biliyoruz. Kırmızı şarap kalitesi ile ilgili bir veri seti kullanacağız.Bu veri seti yaklaşık 1600 Portekiz kırmızı şarabının fizikokimyasal ölçümlerinden oluşmaktadır. Ayrıca, kör tat testlerinden elde edilen her şarap için bir kalite derecesi de dahildir. Bir şarabın algılanan kalitesini bu ölçümlerden ne kadar iyi tahmin edebiliriz?"
   ]
  },
  {
   "cell_type": "markdown",
   "id": "e428066f",
   "metadata": {},
   "source": [
    "İlk olarak veri ön işlemlerini yapacağız. Bundan dolayı her bir özelliği 0-1 arasında olacak şekilde yeniden ölçeklendireceğiz. Nedeni ise sinir ağları girdileri ortak bir ölçekte olduğunda en iyi performans gösterme eğilimindedir.\n"
   ]
  },
  {
   "cell_type": "code",
   "execution_count": 9,
   "id": "183e0e49",
   "metadata": {},
   "outputs": [],
   "source": [
    "# ilgili kütüphanelerin yüklenmesi\n",
    "\n",
    "import pandas as pd\n",
    "from IPython.display import display\n"
   ]
  },
  {
   "cell_type": "code",
   "execution_count": 10,
   "id": "a92a3931",
   "metadata": {},
   "outputs": [],
   "source": [
    "# veri setimizin yüklenmesi\n",
    "\n",
    "red_wine = pd.read_csv(\"red-wine.csv\")"
   ]
  },
  {
   "cell_type": "code",
   "execution_count": 11,
   "id": "5a6a051f",
   "metadata": {},
   "outputs": [
    {
     "data": {
      "text/html": [
       "<div>\n",
       "<style scoped>\n",
       "    .dataframe tbody tr th:only-of-type {\n",
       "        vertical-align: middle;\n",
       "    }\n",
       "\n",
       "    .dataframe tbody tr th {\n",
       "        vertical-align: top;\n",
       "    }\n",
       "\n",
       "    .dataframe thead th {\n",
       "        text-align: right;\n",
       "    }\n",
       "</style>\n",
       "<table border=\"1\" class=\"dataframe\">\n",
       "  <thead>\n",
       "    <tr style=\"text-align: right;\">\n",
       "      <th></th>\n",
       "      <th>fixed acidity</th>\n",
       "      <th>volatile acidity</th>\n",
       "      <th>citric acid</th>\n",
       "      <th>residual sugar</th>\n",
       "      <th>chlorides</th>\n",
       "      <th>free sulfur dioxide</th>\n",
       "      <th>total sulfur dioxide</th>\n",
       "      <th>density</th>\n",
       "      <th>pH</th>\n",
       "      <th>sulphates</th>\n",
       "      <th>alcohol</th>\n",
       "      <th>quality</th>\n",
       "    </tr>\n",
       "  </thead>\n",
       "  <tbody>\n",
       "    <tr>\n",
       "      <th>1109</th>\n",
       "      <td>10.8</td>\n",
       "      <td>0.470</td>\n",
       "      <td>0.43</td>\n",
       "      <td>2.10</td>\n",
       "      <td>0.171</td>\n",
       "      <td>27.0</td>\n",
       "      <td>66.0</td>\n",
       "      <td>0.99820</td>\n",
       "      <td>3.17</td>\n",
       "      <td>0.76</td>\n",
       "      <td>10.8</td>\n",
       "      <td>6</td>\n",
       "    </tr>\n",
       "    <tr>\n",
       "      <th>1032</th>\n",
       "      <td>8.1</td>\n",
       "      <td>0.820</td>\n",
       "      <td>0.00</td>\n",
       "      <td>4.10</td>\n",
       "      <td>0.095</td>\n",
       "      <td>5.0</td>\n",
       "      <td>14.0</td>\n",
       "      <td>0.99854</td>\n",
       "      <td>3.36</td>\n",
       "      <td>0.53</td>\n",
       "      <td>9.6</td>\n",
       "      <td>5</td>\n",
       "    </tr>\n",
       "    <tr>\n",
       "      <th>1002</th>\n",
       "      <td>9.1</td>\n",
       "      <td>0.290</td>\n",
       "      <td>0.33</td>\n",
       "      <td>2.05</td>\n",
       "      <td>0.063</td>\n",
       "      <td>13.0</td>\n",
       "      <td>27.0</td>\n",
       "      <td>0.99516</td>\n",
       "      <td>3.26</td>\n",
       "      <td>0.84</td>\n",
       "      <td>11.7</td>\n",
       "      <td>7</td>\n",
       "    </tr>\n",
       "    <tr>\n",
       "      <th>487</th>\n",
       "      <td>10.2</td>\n",
       "      <td>0.645</td>\n",
       "      <td>0.36</td>\n",
       "      <td>1.80</td>\n",
       "      <td>0.053</td>\n",
       "      <td>5.0</td>\n",
       "      <td>14.0</td>\n",
       "      <td>0.99820</td>\n",
       "      <td>3.17</td>\n",
       "      <td>0.42</td>\n",
       "      <td>10.0</td>\n",
       "      <td>6</td>\n",
       "    </tr>\n",
       "  </tbody>\n",
       "</table>\n",
       "</div>"
      ],
      "text/plain": [
       "      fixed acidity  volatile acidity  citric acid  residual sugar  chlorides  \\\n",
       "1109           10.8             0.470         0.43            2.10      0.171   \n",
       "1032            8.1             0.820         0.00            4.10      0.095   \n",
       "1002            9.1             0.290         0.33            2.05      0.063   \n",
       "487            10.2             0.645         0.36            1.80      0.053   \n",
       "\n",
       "      free sulfur dioxide  total sulfur dioxide  density    pH  sulphates  \\\n",
       "1109                 27.0                  66.0  0.99820  3.17       0.76   \n",
       "1032                  5.0                  14.0  0.99854  3.36       0.53   \n",
       "1002                 13.0                  27.0  0.99516  3.26       0.84   \n",
       "487                   5.0                  14.0  0.99820  3.17       0.42   \n",
       "\n",
       "      alcohol  quality  \n",
       "1109     10.8        6  \n",
       "1032      9.6        5  \n",
       "1002     11.7        7  \n",
       "487      10.0        6  "
      ]
     },
     "metadata": {},
     "output_type": "display_data"
    }
   ],
   "source": [
    "# verimizi eğitim ve doğrulama şeklinde ayıralım.\n",
    "\n",
    "df_train = red_wine.sample(frac=0.7, random_state=0)\n",
    "df_valid = red_wine.drop(df_train.index)\n",
    "display(df_train.head(4))"
   ]
  },
  {
   "cell_type": "code",
   "execution_count": 12,
   "id": "c6eb505d",
   "metadata": {},
   "outputs": [],
   "source": [
    "# verimizi 0-1 aralığında ölçeklendirelim.\n",
    "\n",
    "max_ = df_train.max(axis=0)\n",
    "min_ = df_train.min(axis=0)\n",
    "df_train = (df_train - min_) / (max_ - min_)\n",
    "df_valid = (df_valid - min_) / (max_ - min_)"
   ]
  },
  {
   "cell_type": "code",
   "execution_count": 13,
   "id": "1e2d2e33",
   "metadata": {},
   "outputs": [],
   "source": [
    "X_train = df_train.drop('quality', axis=1)\n",
    "X_valid = df_valid.drop('quality', axis=1)\n",
    "y_train = df_train['quality']\n",
    "y_valid = df_valid['quality']"
   ]
  },
  {
   "cell_type": "markdown",
   "id": "2ab56388",
   "metadata": {},
   "source": [
    "Peki ağımızın kaç girişi olmalı ?  Bunu veri setimize bakarak söyleyebiliriz. Hedefimiz kaliteyi tahmin etmek."
   ]
  },
  {
   "cell_type": "code",
   "execution_count": 14,
   "id": "2d81d2db",
   "metadata": {},
   "outputs": [
    {
     "name": "stdout",
     "output_type": "stream",
     "text": [
      "(1119, 11)\n"
     ]
    }
   ],
   "source": [
    "print(X_train.shape) # 1119 adet ve kalite haricinde 11 sutun. buradan da anlaşıldığı üzere input_shape=11 olmalı."
   ]
  },
  {
   "cell_type": "markdown",
   "id": "3d3afb56",
   "metadata": {},
   "source": [
    "1500 den fazla nörona sahip 3 katmanlı bir ağ oluşturacağız."
   ]
  },
  {
   "cell_type": "code",
   "execution_count": 15,
   "id": "83255271",
   "metadata": {},
   "outputs": [],
   "source": [
    "from tensorflow import keras\n",
    "from tensorflow.keras import layers\n",
    "\n",
    "model = keras.Sequential([\n",
    "    layers.Dense(512, activation='relu', input_shape=[11]),\n",
    "    layers.Dense(512, activation='relu'),\n",
    "    layers.Dense(512, activation='relu'),\n",
    "    layers.Dense(1),\n",
    "])"
   ]
  },
  {
   "cell_type": "code",
   "execution_count": 16,
   "id": "2be0674a",
   "metadata": {},
   "outputs": [
    {
     "name": "stdout",
     "output_type": "stream",
     "text": [
      "Model: \"sequential_1\"\n",
      "_________________________________________________________________\n",
      " Layer (type)                Output Shape              Param #   \n",
      "=================================================================\n",
      " dense_3 (Dense)             (None, 512)               6144      \n",
      "                                                                 \n",
      " dense_4 (Dense)             (None, 512)               262656    \n",
      "                                                                 \n",
      " dense_5 (Dense)             (None, 512)               262656    \n",
      "                                                                 \n",
      " dense_6 (Dense)             (None, 1)                 513       \n",
      "                                                                 \n",
      "=================================================================\n",
      "Total params: 531,969\n",
      "Trainable params: 531,969\n",
      "Non-trainable params: 0\n",
      "_________________________________________________________________\n"
     ]
    }
   ],
   "source": [
    "model.summary()"
   ]
  },
  {
   "cell_type": "markdown",
   "id": "cb4c79cf",
   "metadata": {},
   "source": [
    "Modelimize loss ve optimizer'ı ekleyelim."
   ]
  },
  {
   "cell_type": "code",
   "execution_count": 17,
   "id": "8a7b1bdb",
   "metadata": {},
   "outputs": [],
   "source": [
    "model.compile(\n",
    "    optimizer='adam',\n",
    "    loss='mae',\n",
    ")"
   ]
  },
  {
   "cell_type": "markdown",
   "id": "83ce5aac",
   "metadata": {},
   "source": [
    "Artık eğitime hazırız. Model eğitimi fit() fonksiyonu ile yapılır. Keras optimizer'a bir seferde 256 satırlık veri almasını ve ve bunu bütün veri kümesini 10 kez kullanması gerektiği bilgisini veriyoruz."
   ]
  },
  {
   "cell_type": "code",
   "execution_count": 18,
   "id": "8e41e7b3",
   "metadata": {},
   "outputs": [
    {
     "name": "stdout",
     "output_type": "stream",
     "text": [
      "Epoch 1/10\n",
      "5/5 [==============================] - 1s 49ms/step - loss: 0.3059 - val_loss: 0.1497\n",
      "Epoch 2/10\n",
      "5/5 [==============================] - 0s 18ms/step - loss: 0.1514 - val_loss: 0.1378\n",
      "Epoch 3/10\n",
      "5/5 [==============================] - 0s 22ms/step - loss: 0.1294 - val_loss: 0.1237\n",
      "Epoch 4/10\n",
      "5/5 [==============================] - 0s 22ms/step - loss: 0.1178 - val_loss: 0.1154\n",
      "Epoch 5/10\n",
      "5/5 [==============================] - 0s 20ms/step - loss: 0.1127 - val_loss: 0.1066\n",
      "Epoch 6/10\n",
      "5/5 [==============================] - 0s 23ms/step - loss: 0.1105 - val_loss: 0.1026\n",
      "Epoch 7/10\n",
      "5/5 [==============================] - 0s 22ms/step - loss: 0.1066 - val_loss: 0.1064\n",
      "Epoch 8/10\n",
      "5/5 [==============================] - 0s 22ms/step - loss: 0.1041 - val_loss: 0.1019\n",
      "Epoch 9/10\n",
      "5/5 [==============================] - 0s 19ms/step - loss: 0.1026 - val_loss: 0.1013\n",
      "Epoch 10/10\n",
      "5/5 [==============================] - 0s 19ms/step - loss: 0.1017 - val_loss: 0.1048\n"
     ]
    }
   ],
   "source": [
    "history = model.fit(\n",
    "    X_train, y_train,\n",
    "    validation_data=(X_valid, y_valid),\n",
    "    batch_size=256,\n",
    "    epochs=10,\n",
    ")"
   ]
  },
  {
   "cell_type": "markdown",
   "id": "3c474a56",
   "metadata": {},
   "source": [
    "Modelimizin eğitim süreci tamamlandı. Bu değerleri inceleyelim. loss:0.3059 'dan loss: 0.1017' ye düştü. Sonuçlarımızı görselleştirelim.\n"
   ]
  },
  {
   "cell_type": "code",
   "execution_count": 19,
   "id": "1d422038",
   "metadata": {},
   "outputs": [
    {
     "data": {
      "image/png": "[encoded data removed]",
      "text/plain": [
       "<Figure size 432x288 with 1 Axes>"
      ]
     },
     "metadata": {
      "needs_background": "light"
     },
     "output_type": "display_data"
    }
   ],
   "source": [
    "import pandas as pd\n",
    "\n",
    "# eğitim geçmişini (loss değerlerini) pandas dataframe'ine çevirelim.\n",
    "history_df = pd.DataFrame(history.history)\n",
    "# görselleştirelim.\n",
    "history_df['loss'].plot();"
   ]
  },
  {
   "cell_type": "markdown",
   "id": "f7d63dd4",
   "metadata": {},
   "source": [
    "Her epoch'da kayıp değerinin azaldığını gözlemliyoruz. Loss eğrisi bu şekilde yatay hale geldiğinde modelin eğitimi tamamladığı ve diğer epochlar için fazla bir öğrenme gerçekleşmeyeceği anlamına gelir."
   ]
  },
  {
   "cell_type": "markdown",
   "id": "086a22c6",
   "metadata": {},
   "source": [
    "4-) Overfitting ve Underfitting "
   ]
  },
  {
   "cell_type": "markdown",
   "id": "41e71b3d",
   "metadata": {},
   "source": [
    "Eğitim verilerindeki bilgileri iki farklı türde düşünebiliriz. Signal ve Noise. Sinyal genelleştirilen kısımdır. Modelimizin yeni verilerden tahminlerde bulunmasına yardımcı olabilecek kısımdır. Gürültü ise yalnızca eğitim verileri için geçerli olan kısımdır. Modelin tahmin yapmasına gerçekten yardımcı olamayan kalıpların tamamıdır. Eğitim kaybı model ya sinyali öğrendiğinde ya da gürültüyü öğrendiğinde azalacaktır.Ancak doğrulama kaybı modeli sinyali öğrendiğinde azalacaktır. Yani modelin eğitim setinden öğrendiği gürültü ne olursa olsun, yeni verilere genelleyemeyecektir. Böylece model sinyali öğrendiğinde her iki eğride aşağı düşer ancak model gürülyütü öğrendiğinde eğriler arasında boşluk meydana gelmeye başlar.Boşluğun boyutu modelin ne kadar gürültü öğrendiğidir."
   ]
  },
  {
   "cell_type": "markdown",
   "id": "32e483dd",
   "metadata": {},
   "source": [
    "En ideal model tüm sinyali öğrenen ancak hiçbir gürültüyü öğrenmeyen modeller inşa etmek. Ancak bu neredeyse imkansız olacak. Bunun yerine modelin daha fazla gürültü öğrenmesi pahasına daha fazla sinyal öğrenmesini sağlayabiliriz.\n"
   ]
  },
  {
   "cell_type": "markdown",
   "id": "3ee9065e",
   "metadata": {},
   "source": [
    "Bu ticaret iki farklı sorunu ortaya çıkartıyor. Underfitting modelin yeterince sinyal öğrenmemesi nedeni ile kaybın yeteri kadar düşük olmadığı zamandır.Overfitting ise modelin çok fazla gürültü öğrendiği için kaybın olabildiğince düşük olmadı zamandır.Derin öğrenme modellerinin püf noktası ikisi arasındaki en iyi dengeyi bulmaktdır."
   ]
  },
  {
   "cell_type": "markdown",
   "id": "ca91d367",
   "metadata": {},
   "source": [
    "** Bir modelin kapasitesi öğrenebileceği kalıpların büyüklüğünü ve karmaşıklığını ifade eder.Sinir ağları için bu büyük ölçüde kaç nörona sahip olduğu ve nasıl birbirlerine bağlı oldukları ile belirlenecektir."
   ]
  },
  {
   "cell_type": "markdown",
   "id": "027dde45",
   "metadata": {},
   "source": [
    "*** Mevcut katmanlara daha fazla birim eklenerek ağ daha geniş bir hale getirilebilir. Bu işlem daha doğrusal ilişkileri öğrenmek için daha kolay bir zamana sahiptir. Ağımıza daha daha fazla katman ekleyerek daha derin hale getirebiliriz. Bu işlem ise doğrusal olmayan veriler üzerinde başarılı sonuçlar verebilir. Hangisinin daha iyi olması sadece veri kümesine bağlıdır."
   ]
  },
  {
   "cell_type": "markdown",
   "id": "8c5b9b5a",
   "metadata": {},
   "source": [
    "# Uygulama"
   ]
  },
  {
   "cell_type": "code",
   "execution_count": 10,
   "id": "60a3baec",
   "metadata": {},
   "outputs": [],
   "source": [
    "from tensorflow import keras\n",
    "from tensorflow.keras import layers\n",
    "\n",
    "# varsayılan modelimiz.\n",
    "model = keras.Sequential([\n",
    "    layers.Dense(16, activation='relu', input_shape=[11]),\n",
    "    layers.Dense(1),\n",
    "])\n",
    "\n",
    "# varsayılan modelimize göre daha fazla nörona sahip geniş modelimiz. doğrusal verilerde kullanmak mantıklıdır.\n",
    "genis = keras.Sequential([\n",
    "    layers.Dense(32, activation='relu',input_shape=[11]),\n",
    "    layers.Dense(1),\n",
    "])\n",
    "\n",
    "# varsayılan modelimize göre daha fazla katmana sahip derin modelimiz. doğrusal olmayan verilerde kullanmak mantıklıdır.\n",
    "derin = keras.Sequential([\n",
    "    layers.Dense(16, activation='relu',input_shape=[11]),\n",
    "    layers.Dense(16, activation='relu'),\n",
    "    layers.Dense(1),\n",
    "])"
   ]
  },
  {
   "cell_type": "code",
   "execution_count": 11,
   "id": "2fc66ccb",
   "metadata": {},
   "outputs": [
    {
     "name": "stdout",
     "output_type": "stream",
     "text": [
      "Model: \"sequential_14\"\n",
      "_________________________________________________________________\n",
      " Layer (type)                Output Shape              Param #   \n",
      "=================================================================\n",
      " dense_32 (Dense)            (None, 16)                192       \n",
      "                                                                 \n",
      " dense_33 (Dense)            (None, 16)                272       \n",
      "                                                                 \n",
      " dense_34 (Dense)            (None, 1)                 17        \n",
      "                                                                 \n",
      "=================================================================\n",
      "Total params: 481\n",
      "Trainable params: 481\n",
      "Non-trainable params: 0\n",
      "_________________________________________________________________\n"
     ]
    }
   ],
   "source": [
    "derin.summary()"
   ]
  },
  {
   "cell_type": "markdown",
   "id": "db1a2404",
   "metadata": {},
   "source": [
    "5-) Early Stopping"
   ]
  },
  {
   "cell_type": "markdown",
   "id": "4a935f59",
   "metadata": {},
   "source": [
    "Bir model gürültüyü hevesle öğrenirken eğitim sırasında doğrulama kaybının artmaya başlayacağını belirtmiştik. Bunu önlemek için doğrulama kaybı artık azalmıyor gibi göründüğünde eğitimi durdurabiliriz. Eğitimin bu şekilde kesintiye uğramasına erken durdurma denir."
   ]
  },
  {
   "cell_type": "markdown",
   "id": "aa5d6d5b",
   "metadata": {},
   "source": [
    "* Doğrulama kaybının tekrar yükselmeye başladığını tespit ettiğimizde ağırlıkları minumumun oluştuğu yere tekrardan sıfırlayabiliriz. Bu modelin gürültüyü öğrenmemeye ve verilere aşırı uymaya devam etmemesini sağlar.\n",
    "* Eğitimde mantıklı olan epoch sayısını yüksek tutmak ve early stopping eklemektir. Early stopping her epochtan sonra çalışır."
   ]
  },
  {
   "cell_type": "markdown",
   "id": "21b8fee3",
   "metadata": {},
   "source": [
    "# Uygulama"
   ]
  },
  {
   "cell_type": "code",
   "execution_count": 12,
   "id": "50ea927a",
   "metadata": {},
   "outputs": [],
   "source": [
    "from tensorflow.keras.callbacks import EarlyStopping\n",
    "\n",
    "early_stopping = EarlyStopping(\n",
    "    min_delta=0.001, # gelişme olarak sayılacak minumum değişiklik miktarı.\n",
    "    patience=20, # durmadan önce kaç epoch bekleyeceğiz.\n",
    "    restore_best_weights=True,\n",
    ")"
   ]
  },
  {
   "cell_type": "markdown",
   "id": "3b0c8301",
   "metadata": {},
   "source": [
    "Keras içerisinden EarlyStopping sınıfını import ettik. Bu sınıftan bir nesne tanımladık . İçerideki parametrelerin açıklaması şu şekildedir. Önceki 20 epoch eğitime bakarım. Doğrulama kaybında en az 0.001 lik bir değişim görmez isem eğitimi durdururum ve bulduğum en iyi modeli ( ağırlıkları ) saklarım."
   ]
  },
  {
   "cell_type": "markdown",
   "id": "948c4c47",
   "metadata": {},
   "source": [
    "# BAŞTAN SONA UYGULAMA"
   ]
  },
  {
   "cell_type": "code",
   "execution_count": 20,
   "id": "dbb131fe",
   "metadata": {},
   "outputs": [
    {
     "data": {
      "text/html": [
       "<div>\n",
       "<style scoped>\n",
       "    .dataframe tbody tr th:only-of-type {\n",
       "        vertical-align: middle;\n",
       "    }\n",
       "\n",
       "    .dataframe tbody tr th {\n",
       "        vertical-align: top;\n",
       "    }\n",
       "\n",
       "    .dataframe thead th {\n",
       "        text-align: right;\n",
       "    }\n",
       "</style>\n",
       "<table border=\"1\" class=\"dataframe\">\n",
       "  <thead>\n",
       "    <tr style=\"text-align: right;\">\n",
       "      <th></th>\n",
       "      <th>fixed acidity</th>\n",
       "      <th>volatile acidity</th>\n",
       "      <th>citric acid</th>\n",
       "      <th>residual sugar</th>\n",
       "      <th>chlorides</th>\n",
       "      <th>free sulfur dioxide</th>\n",
       "      <th>total sulfur dioxide</th>\n",
       "      <th>density</th>\n",
       "      <th>pH</th>\n",
       "      <th>sulphates</th>\n",
       "      <th>alcohol</th>\n",
       "      <th>quality</th>\n",
       "    </tr>\n",
       "  </thead>\n",
       "  <tbody>\n",
       "    <tr>\n",
       "      <th>1109</th>\n",
       "      <td>10.8</td>\n",
       "      <td>0.470</td>\n",
       "      <td>0.43</td>\n",
       "      <td>2.10</td>\n",
       "      <td>0.171</td>\n",
       "      <td>27.0</td>\n",
       "      <td>66.0</td>\n",
       "      <td>0.99820</td>\n",
       "      <td>3.17</td>\n",
       "      <td>0.76</td>\n",
       "      <td>10.8</td>\n",
       "      <td>6</td>\n",
       "    </tr>\n",
       "    <tr>\n",
       "      <th>1032</th>\n",
       "      <td>8.1</td>\n",
       "      <td>0.820</td>\n",
       "      <td>0.00</td>\n",
       "      <td>4.10</td>\n",
       "      <td>0.095</td>\n",
       "      <td>5.0</td>\n",
       "      <td>14.0</td>\n",
       "      <td>0.99854</td>\n",
       "      <td>3.36</td>\n",
       "      <td>0.53</td>\n",
       "      <td>9.6</td>\n",
       "      <td>5</td>\n",
       "    </tr>\n",
       "    <tr>\n",
       "      <th>1002</th>\n",
       "      <td>9.1</td>\n",
       "      <td>0.290</td>\n",
       "      <td>0.33</td>\n",
       "      <td>2.05</td>\n",
       "      <td>0.063</td>\n",
       "      <td>13.0</td>\n",
       "      <td>27.0</td>\n",
       "      <td>0.99516</td>\n",
       "      <td>3.26</td>\n",
       "      <td>0.84</td>\n",
       "      <td>11.7</td>\n",
       "      <td>7</td>\n",
       "    </tr>\n",
       "    <tr>\n",
       "      <th>487</th>\n",
       "      <td>10.2</td>\n",
       "      <td>0.645</td>\n",
       "      <td>0.36</td>\n",
       "      <td>1.80</td>\n",
       "      <td>0.053</td>\n",
       "      <td>5.0</td>\n",
       "      <td>14.0</td>\n",
       "      <td>0.99820</td>\n",
       "      <td>3.17</td>\n",
       "      <td>0.42</td>\n",
       "      <td>10.0</td>\n",
       "      <td>6</td>\n",
       "    </tr>\n",
       "  </tbody>\n",
       "</table>\n",
       "</div>"
      ],
      "text/plain": [
       "      fixed acidity  volatile acidity  citric acid  residual sugar  chlorides  \\\n",
       "1109           10.8             0.470         0.43            2.10      0.171   \n",
       "1032            8.1             0.820         0.00            4.10      0.095   \n",
       "1002            9.1             0.290         0.33            2.05      0.063   \n",
       "487            10.2             0.645         0.36            1.80      0.053   \n",
       "\n",
       "      free sulfur dioxide  total sulfur dioxide  density    pH  sulphates  \\\n",
       "1109                 27.0                  66.0  0.99820  3.17       0.76   \n",
       "1032                  5.0                  14.0  0.99854  3.36       0.53   \n",
       "1002                 13.0                  27.0  0.99516  3.26       0.84   \n",
       "487                   5.0                  14.0  0.99820  3.17       0.42   \n",
       "\n",
       "      alcohol  quality  \n",
       "1109     10.8        6  \n",
       "1032      9.6        5  \n",
       "1002     11.7        7  \n",
       "487      10.0        6  "
      ]
     },
     "metadata": {},
     "output_type": "display_data"
    }
   ],
   "source": [
    "import pandas as pd\n",
    "from IPython.display import display\n",
    "\n",
    "red_wine = pd.read_csv('red-wine.csv')\n",
    "\n",
    "# eğitim ve doğrulama verilerinin ayrılması.\n",
    "df_train = red_wine.sample(frac=0.7, random_state=0)\n",
    "df_valid = red_wine.drop(df_train.index)\n",
    "display(df_train.head(4))\n",
    "\n",
    "# scaling işlemi.\n",
    "max_ = df_train.max(axis=0)\n",
    "min_ = df_train.min(axis=0)\n",
    "df_train = (df_train - min_) / (max_ - min_)\n",
    "df_valid = (df_valid - min_) / (max_ - min_)\n",
    "\n",
    "# özellik ve görevlerin ayrılması\n",
    "X_train = df_train.drop('quality', axis=1)\n",
    "X_valid = df_valid.drop('quality', axis=1)\n",
    "y_train = df_train['quality']\n",
    "y_valid = df_valid['quality']"
   ]
  },
  {
   "cell_type": "code",
   "execution_count": 21,
   "id": "53f6d046",
   "metadata": {},
   "outputs": [],
   "source": [
    "from tensorflow import keras\n",
    "from tensorflow.keras import layers, callbacks\n",
    "\n",
    "# erken durdurmanın tanımlanması.\n",
    "early_stopping = callbacks.EarlyStopping(\n",
    "    min_delta=0.001, \n",
    "    patience=20, \n",
    "    restore_best_weights=True,\n",
    ")\n",
    "\n",
    "# modelin tanımlanması.\n",
    "model = keras.Sequential([\n",
    "    layers.Dense(512, activation='relu', input_shape=[11]),\n",
    "    layers.Dense(512, activation='relu'),\n",
    "    layers.Dense(512, activation='relu'),\n",
    "    layers.Dense(1),\n",
    "])\n",
    "\n",
    "# optimizer ve loss'un tanımı.\n",
    "model.compile(\n",
    "    optimizer='adam',\n",
    "    loss='mae',\n",
    ")"
   ]
  },
  {
   "cell_type": "code",
   "execution_count": 22,
   "id": "be718ca8",
   "metadata": {},
   "outputs": [
    {
     "name": "stdout",
     "output_type": "stream",
     "text": [
      "Model: \"sequential_16\"\n",
      "_________________________________________________________________\n",
      " Layer (type)                Output Shape              Param #   \n",
      "=================================================================\n",
      " dense_39 (Dense)            (None, 512)               6144      \n",
      "                                                                 \n",
      " dense_40 (Dense)            (None, 512)               262656    \n",
      "                                                                 \n",
      " dense_41 (Dense)            (None, 512)               262656    \n",
      "                                                                 \n",
      " dense_42 (Dense)            (None, 1)                 513       \n",
      "                                                                 \n",
      "=================================================================\n",
      "Total params: 531,969\n",
      "Trainable params: 531,969\n",
      "Non-trainable params: 0\n",
      "_________________________________________________________________\n"
     ]
    }
   ],
   "source": [
    "# modelin özeti.\n",
    "model.summary()"
   ]
  },
  {
   "cell_type": "code",
   "execution_count": 23,
   "id": "20ad2e4f",
   "metadata": {},
   "outputs": [
    {
     "name": "stdout",
     "output_type": "stream",
     "text": [
      "Minimum validation loss: 0.09204108268022537\n"
     ]
    },
    {
     "data": {
      "image/png": "[encoded data removed]",
      "text/plain": [
       "<Figure size 432x288 with 1 Axes>"
      ]
     },
     "metadata": {
      "needs_background": "light"
     },
     "output_type": "display_data"
    }
   ],
   "source": [
    "# modelin eğitimi ve değerlendirilmesi.\n",
    "\n",
    "# modelin eğitimi.\n",
    "history = model.fit(\n",
    "    X_train, y_train,\n",
    "    validation_data=(X_valid, y_valid),\n",
    "    batch_size=256,\n",
    "    epochs=500,\n",
    "    callbacks=[early_stopping], # early stoppin'i listeye attık.\n",
    "    verbose=0,  # eğitim log'unu kapat.\n",
    ")\n",
    "\n",
    "history_df = pd.DataFrame(history.history)\n",
    "history_df.loc[:, ['loss', 'val_loss']].plot();\n",
    "print(\"Minimum validation loss: {}\".format(history_df['val_loss'].min()))"
   ]
  },
  {
   "cell_type": "markdown",
   "id": "de09bc5d",
   "metadata": {},
   "source": [
    "Ve tabii ki, Keras tam 500 epoch'tan çok önce eğitimi durdurdu!"
   ]
  },
  {
   "cell_type": "markdown",
   "id": "3b61b5e2",
   "metadata": {},
   "source": [
    "6-) Dropout ve Batch Normalization"
   ]
  },
  {
   "cell_type": "markdown",
   "id": "95abdd80",
   "metadata": {},
   "source": [
    "Derin öğrenme katmanları sadece birbiri ile bağlantılı yoğun katmanlardan meydana gelmez. Çok çeşitli derin öğrenme katmanları mevcuttur.Bazıları yoğun katmanlar gibidir ve nöronlar arasındaki bağlantıları tanımlar, diğerleri ise başka türden ön işleme veya dönüşümler yapabilir.Bu derste, herhangi bir nöron içermeyen, ancak bazen bir modele çeşitli şekillerde fayda sağlayabilecek bazı işlevler ekleyen iki tür özel katman hakkında bilgi edineceğiz. Her ikisi de modern mimarilerde yaygın olarak kullanılmaktadır."
   ]
  },
  {
   "cell_type": "markdown",
   "id": "3899424b",
   "metadata": {},
   "source": [
    "* Dropout : Overfitting'in düzelmesine yardımcı olabilir. Bir önceki bölümde noise'lerin overfittinge sebep olacağından bahsettik. Bu sahte kalıpları tanımak için ağ genellikle çok özel bir ağırlık kombinasyonuna dayanacaktır. Dropout işlemi eğitimin her adımında rastgele bir katmanın girdi birimlerinin bir kısmını atıyoruz. Bu işlem de ağın eğitim verilerindeki bu sahte kalıpları öğrenmesini zorlaştırıyor. Bu işlem şuna benzer. Tahminler artık büyük bir ağ tarafından değilde daha küçük ağlardan oluşan bir kominite tarafından yapılacaktır. Bu işlem makine öğrenmesindeki random forest yapısına çok benzer. Sonuç olarak majority vote ( çoğunluğun oyu ) sonuca karar verir."
   ]
  },
  {
   "cell_type": "code",
   "execution_count": 24,
   "id": "813361e7",
   "metadata": {},
   "outputs": [
    {
     "data": {
      "text/plain": [
       "<keras.engine.sequential.Sequential at 0x1b2ab92d760>"
      ]
     },
     "execution_count": 24,
     "metadata": {},
     "output_type": "execute_result"
    }
   ],
   "source": [
    "# dropout tanımlaması : \n",
    "keras.Sequential([\n",
    "    # ...\n",
    "    layers.Dropout(rate=0.3), # bir sonraki katmananda %30 dropout uygula.\n",
    "    layers.Dense(16),\n",
    "    # ...\n",
    "])"
   ]
  },
  {
   "cell_type": "markdown",
   "id": "4ddbe619",
   "metadata": {},
   "source": [
    "* Batch Normalization : Yavaş ya da dengesiz eğitimi düzeltmeye yarar. Sinir ağlarımızda tüm verilerimizi ortak bir ölçekte (scikit-learn StandardScaler veya MinMaxScaler gibi ) bir şeyle koymak genellikle iyi bir fikirdir. Bunun nedeni, sgd'nin ağ ağırlıklarını verilerin ne kadar büyük bir aktivasyon ürettiğiyle orantılı olarak değiştirmesidir. Çok farklı boyutlarda aktivasyonlar üretme eğiliminde olan özellikler dengesiz eğitim davranışlarına neden olabilir."
   ]
  },
  {
   "cell_type": "markdown",
   "id": "66555605",
   "metadata": {},
   "source": [
    "* Peki verileri ağa vermeden önce normalleştiriyoruz. Olumlu sonuçlar alıyoruz. Verileri ağ içinde normalleştirmek nasıl olurdu ?  Aslında bu işlem için özel bir katmanımız var. \" Batch Normalization \" katmanı. Veriler bu katmana geldiğinde katman verileri kendi ortamala ve standart sapmasıyla normalleştirir. Sonrasında verileri iki eğitilebilir yeniden ölçeklendirme parametresiyle yeni bir ölçeğe yerleştirir."
   ]
  },
  {
   "cell_type": "markdown",
   "id": "9f01e8a7",
   "metadata": {},
   "source": [
    "* Çoğu vakit batchnorm optimizasyon sürecisine yardımcı olmak için eklenir.Batchnorm'lu modeller eğitimi tamamlamak için daha az epoch'a ihtiyaç duyma eğilimindedir. Ayrıca batchnorm eğitimin şıkışmasına neden olabilecek bazı sorunları da çözebilir. Eğitim sırasında sorun yaşanıyorsa batchnorm çözüm olabilir. "
   ]
  },
  {
   "cell_type": "code",
   "execution_count": 26,
   "id": "fce0b7a4",
   "metadata": {},
   "outputs": [
    {
     "data": {
      "text/plain": [
       "(<keras.layers.core.activation.Activation at 0x1b2a81c05e0>,)"
      ]
     },
     "execution_count": 26,
     "metadata": {},
     "output_type": "execute_result"
    }
   ],
   "source": [
    "# batchnorm-un tanımlanması: hemen hemen her adımda kullanılabilir.\n",
    "\n",
    "# bir katmandan sonra koyabiliriz..\n",
    "layers.Dense(16, activation='relu'),\n",
    "layers.BatchNormalization(),\n",
    "\n",
    "# yada bir katman ile etkinleştirme işlevi arasında..\n",
    "\n",
    "layers.Dense(16),\n",
    "layers.BatchNormalization(),\n",
    "layers.Activation('relu'),"
   ]
  },
  {
   "cell_type": "markdown",
   "id": "b5aca90f",
   "metadata": {},
   "source": [
    "Eğer batchnorm u ağımızın ilk katmanı olarak eklersek Sci-Kit Learn'ün Standardscaler'ı gibi uyarlanabilir önişlemci olarak hareket edebilir."
   ]
  },
  {
   "cell_type": "markdown",
   "id": "ad8e7dbd",
   "metadata": {},
   "source": [
    "# BAŞTAN SONA UYGULAMA"
   ]
  },
  {
   "cell_type": "code",
   "execution_count": 28,
   "id": "e8e03007",
   "metadata": {},
   "outputs": [],
   "source": [
    "# veri görselleştirme\n",
    "import matplotlib.pyplot as plt\n",
    "\n",
    "plt.style.use('seaborn-whitegrid')\n",
    "\n",
    "plt.rc('figure', autolayout=True)\n",
    "plt.rc('axes', labelweight='bold', labelsize='large',\n",
    "       titleweight='bold', titlesize=18, titlepad=10)\n",
    "\n",
    "# datanın yüklenmesi\n",
    "import pandas as pd\n",
    "red_wine = pd.read_csv('red-wine.csv')\n",
    "\n",
    "# train ve valid. olarak datanın ayrılması.\n",
    "df_train = red_wine.sample(frac=0.7, random_state=0)\n",
    "df_valid = red_wine.drop(df_train.index)\n",
    "\n",
    "# özellik ve görevlerin belirlenmesi.\n",
    "X_train = df_train.drop('quality', axis=1)\n",
    "X_valid = df_valid.drop('quality', axis=1)\n",
    "y_train = df_train['quality']\n",
    "y_valid = df_valid['quality']"
   ]
  },
  {
   "cell_type": "code",
   "execution_count": 29,
   "id": "4183223d",
   "metadata": {},
   "outputs": [],
   "source": [
    "# dropout'lu modelimizi ekliyoruz.\n",
    "\n",
    "from tensorflow import keras\n",
    "from tensorflow.keras import layers\n",
    "\n",
    "model = keras.Sequential([\n",
    "    layers.Dense(1024, activation='relu', input_shape=[11]),\n",
    "    layers.Dropout(0.3),\n",
    "    layers.BatchNormalization(),\n",
    "    layers.Dense(1024, activation='relu'),\n",
    "    layers.Dropout(0.3),\n",
    "    layers.BatchNormalization(),\n",
    "    layers.Dense(1024, activation='relu'),\n",
    "    layers.Dropout(0.3),\n",
    "    layers.BatchNormalization(),\n",
    "    layers.Dense(1),\n",
    "])"
   ]
  },
  {
   "cell_type": "code",
   "execution_count": 30,
   "id": "e53936ba",
   "metadata": {},
   "outputs": [
    {
     "data": {
      "image/png": "[encoded data removed]",
      "text/plain": [
       "<Figure size 432x288 with 1 Axes>"
      ]
     },
     "metadata": {},
     "output_type": "display_data"
    }
   ],
   "source": [
    "# loss ve optimizer'ı ekleyerek modeli eğitiyoruz.\n",
    "model.compile(\n",
    "    optimizer='adam',\n",
    "    loss='mae',\n",
    ")\n",
    "\n",
    "history = model.fit(\n",
    "    X_train, y_train,\n",
    "    validation_data=(X_valid, y_valid),\n",
    "    batch_size=256,\n",
    "    epochs=100,\n",
    "    verbose=0,\n",
    ")\n",
    "\n",
    "\n",
    "# öğrenme eğrisini görselleştirelim.\n",
    "history_df = pd.DataFrame(history.history)\n",
    "history_df.loc[:, ['loss', 'val_loss']].plot();"
   ]
  },
  {
   "cell_type": "markdown",
   "id": "90a86c85",
   "metadata": {},
   "source": [
    "Verilerinizi eğitim için kullanmadan önce standartlaştırırsanız genellikle daha iyi performans elde edersiniz. Bununla birlikte, ham verileri kullanabilmemiz, toplu normalleştirmenin daha zor veri kümelerinde ne kadar etkili olabileceğini göstermektedir."
   ]
  },
  {
   "cell_type": "markdown",
   "id": "493da885",
   "metadata": {},
   "source": [
    "7-) Binary Classification"
   ]
  },
  {
   "cell_type": "markdown",
   "id": "ad2211b1",
   "metadata": {},
   "source": [
    "Şimdiye kadar sinir ağlarının regresyon problemlerini nasıl çözebileceğini öğrendik. Şimdi sinir ağlarını başka bir yaygın makine öğrenme problemine uygulayacağız: sınıflandırma. Şimdiye kadar öğrendiğimiz her şey hala geçerli. Temel fark, kullandığımız kayıp fonksiyonu ve son katmanın ne tür çıktılar üretmesini istediğimizdir."
   ]
  },
  {
   "cell_type": "markdown",
   "id": "24d7d515",
   "metadata": {},
   "source": [
    "İki sınıftan birine sınıflandırma yaygın bir makine öğrenme problemidir. Bir müşterinin bir satın alma işlemi yapıp yapamayacağını, bir kredi kartı işleminin hileli olup olmadığını, derin uzay sinyallerinin yeni bir gezegen kanıtı gösterip göstermediğini tahmin etmek isteyebiliriz. Bunların hepsi ikili sınıflandırma problemleridir.\n",
    "\n",
    "Ham verilerinizde sınıflar \"Evet\" ve \"Hayır\" veya \"Köpek\" ve \"Kedi\" gibi dizelerle temsil edilebilir. Bu verileri kullanmadan önce bir sınıf etiketi atayacağız: bir sınıf 0, diğeri 1 olacaktır. Sayısal etiketler atamak, verileri bir sinir ağının kullanabileceği bir forma yerleştirir."
   ]
  },
  {
   "cell_type": "markdown",
   "id": "3fefbd72",
   "metadata": {},
   "source": [
    "Doğruluk, bir sınıflandırma problemindeki başarıyı ölçmek için kullanılan birçok ölçümden biridir. Doğruluk, doğru tahminlerin toplam tahminlere oranıdır."
   ]
  },
  {
   "cell_type": "markdown",
   "id": "c44b3fe1",
   "metadata": {},
   "source": [
    "Doğrulukla ilgili sorun (ve diğer sınıflandırma metriklerinin çoğu), bir kayıp fonksiyonu olarak kullanılamamasıdır. Sgd'nin sorunsuz bir şekilde değişen bir kayıp fonksiyonuna ihtiyacı vardır, ancak sayımların bir oranı olan doğruluk \"sıçramalarda\" değişir. O zaman kayıp fonksiyonu olarak çalışacak bir fonksiyon seçmeliyiz.  \" cross-entropy \" fonksiyonu"
   ]
  },
  {
   "cell_type": "markdown",
   "id": "04e5f60e",
   "metadata": {},
   "source": [
    "Cross-entropy sınıflandırmada olasılıklar arasındaki mesafeyi ölçmeye yarar, cross-entropy bir olasılık dağılımından diğerine olan mesafenin bir ölçüsüdür. ( regressiondaki MAE )"
   ]
  },
  {
   "cell_type": "markdown",
   "id": "a12d555e",
   "metadata": {},
   "source": [
    "Buradaki fikir, ağımızın olasılık 1.0 ile doğru sınıfı tahmin etmesini istediğimizdir. Tahmin edilen olasılık 1.0'dan ne kadar uzak olursa, Cross-entropy kaybı o kadar büyük olur."
   ]
  },
  {
   "cell_type": "markdown",
   "id": "54f36b98",
   "metadata": {},
   "source": [
    "Cross-entropy ve doğruluk fonksiyonlarının her ikisi de girdi olarak olasılıklar gerektirir, yani 0'dan 1'e kadar olan sayılar. Yoğun bir katman tarafından üretilen gerçek değerli çıktıları olasılıklara gizlemek için yeni bir tür aktivasyon fonksiyonu olan sigmoid aktivasyonunu ekliyoruz. Sigmoid uzayda 0-1 arasında bir değer döndürür."
   ]
  },
  {
   "cell_type": "markdown",
   "id": "febdf737",
   "metadata": {},
   "source": [
    "Aktivasyon fonksiyonı olan sigmoid üzerinden gelen sonuca göre son sınıfı tahminini elde etmek için bir eşik olasılığı tanımlarız. Tipik olarak bu 0.5 olacaktır, böylece yuvarlama bize doğru sınıfı verecektir: 0.5'in altında 0 etiketli sınıf ve 0.5 veya üstünde 1 etiketli sınıf anlamına gelir."
   ]
  },
  {
   "cell_type": "markdown",
   "id": "43441f31",
   "metadata": {},
   "source": [
    "# BAŞTAN SONA BİNARY CLASSİFİCATİON"
   ]
  },
  {
   "cell_type": "markdown",
   "id": "416714fa",
   "metadata": {},
   "source": [
    "İyonosfer veri seti, Dünya atmosferinin iyonosfer katmanına odaklanan radar sinyallerinden elde edilen özellikleri içerir. Görevimiz, sinyalin bir nesnenin varlığını mı yoksa sadece boş havayı mı gösterdiğini belirlemektir."
   ]
  },
  {
   "cell_type": "code",
   "execution_count": 31,
   "id": "37fd2ea8",
   "metadata": {},
   "outputs": [
    {
     "data": {
      "text/html": [
       "<div>\n",
       "<style scoped>\n",
       "    .dataframe tbody tr th:only-of-type {\n",
       "        vertical-align: middle;\n",
       "    }\n",
       "\n",
       "    .dataframe tbody tr th {\n",
       "        vertical-align: top;\n",
       "    }\n",
       "\n",
       "    .dataframe thead th {\n",
       "        text-align: right;\n",
       "    }\n",
       "</style>\n",
       "<table border=\"1\" class=\"dataframe\">\n",
       "  <thead>\n",
       "    <tr style=\"text-align: right;\">\n",
       "      <th></th>\n",
       "      <th>V1</th>\n",
       "      <th>V2</th>\n",
       "      <th>V3</th>\n",
       "      <th>V4</th>\n",
       "      <th>V5</th>\n",
       "      <th>V6</th>\n",
       "      <th>V7</th>\n",
       "      <th>V8</th>\n",
       "      <th>V9</th>\n",
       "      <th>V10</th>\n",
       "      <th>...</th>\n",
       "      <th>V26</th>\n",
       "      <th>V27</th>\n",
       "      <th>V28</th>\n",
       "      <th>V29</th>\n",
       "      <th>V30</th>\n",
       "      <th>V31</th>\n",
       "      <th>V32</th>\n",
       "      <th>V33</th>\n",
       "      <th>V34</th>\n",
       "      <th>Class</th>\n",
       "    </tr>\n",
       "  </thead>\n",
       "  <tbody>\n",
       "    <tr>\n",
       "      <th>1</th>\n",
       "      <td>1</td>\n",
       "      <td>0</td>\n",
       "      <td>0.99539</td>\n",
       "      <td>-0.05889</td>\n",
       "      <td>0.85243</td>\n",
       "      <td>0.02306</td>\n",
       "      <td>0.83398</td>\n",
       "      <td>-0.37708</td>\n",
       "      <td>1.00000</td>\n",
       "      <td>0.03760</td>\n",
       "      <td>...</td>\n",
       "      <td>-0.51171</td>\n",
       "      <td>0.41078</td>\n",
       "      <td>-0.46168</td>\n",
       "      <td>0.21266</td>\n",
       "      <td>-0.34090</td>\n",
       "      <td>0.42267</td>\n",
       "      <td>-0.54487</td>\n",
       "      <td>0.18641</td>\n",
       "      <td>-0.45300</td>\n",
       "      <td>good</td>\n",
       "    </tr>\n",
       "    <tr>\n",
       "      <th>2</th>\n",
       "      <td>1</td>\n",
       "      <td>0</td>\n",
       "      <td>1.00000</td>\n",
       "      <td>-0.18829</td>\n",
       "      <td>0.93035</td>\n",
       "      <td>-0.36156</td>\n",
       "      <td>-0.10868</td>\n",
       "      <td>-0.93597</td>\n",
       "      <td>1.00000</td>\n",
       "      <td>-0.04549</td>\n",
       "      <td>...</td>\n",
       "      <td>-0.26569</td>\n",
       "      <td>-0.20468</td>\n",
       "      <td>-0.18401</td>\n",
       "      <td>-0.19040</td>\n",
       "      <td>-0.11593</td>\n",
       "      <td>-0.16626</td>\n",
       "      <td>-0.06288</td>\n",
       "      <td>-0.13738</td>\n",
       "      <td>-0.02447</td>\n",
       "      <td>bad</td>\n",
       "    </tr>\n",
       "    <tr>\n",
       "      <th>3</th>\n",
       "      <td>1</td>\n",
       "      <td>0</td>\n",
       "      <td>1.00000</td>\n",
       "      <td>-0.03365</td>\n",
       "      <td>1.00000</td>\n",
       "      <td>0.00485</td>\n",
       "      <td>1.00000</td>\n",
       "      <td>-0.12062</td>\n",
       "      <td>0.88965</td>\n",
       "      <td>0.01198</td>\n",
       "      <td>...</td>\n",
       "      <td>-0.40220</td>\n",
       "      <td>0.58984</td>\n",
       "      <td>-0.22145</td>\n",
       "      <td>0.43100</td>\n",
       "      <td>-0.17365</td>\n",
       "      <td>0.60436</td>\n",
       "      <td>-0.24180</td>\n",
       "      <td>0.56045</td>\n",
       "      <td>-0.38238</td>\n",
       "      <td>good</td>\n",
       "    </tr>\n",
       "    <tr>\n",
       "      <th>4</th>\n",
       "      <td>1</td>\n",
       "      <td>0</td>\n",
       "      <td>1.00000</td>\n",
       "      <td>-0.45161</td>\n",
       "      <td>1.00000</td>\n",
       "      <td>1.00000</td>\n",
       "      <td>0.71216</td>\n",
       "      <td>-1.00000</td>\n",
       "      <td>0.00000</td>\n",
       "      <td>0.00000</td>\n",
       "      <td>...</td>\n",
       "      <td>0.90695</td>\n",
       "      <td>0.51613</td>\n",
       "      <td>1.00000</td>\n",
       "      <td>1.00000</td>\n",
       "      <td>-0.20099</td>\n",
       "      <td>0.25682</td>\n",
       "      <td>1.00000</td>\n",
       "      <td>-0.32382</td>\n",
       "      <td>1.00000</td>\n",
       "      <td>bad</td>\n",
       "    </tr>\n",
       "    <tr>\n",
       "      <th>5</th>\n",
       "      <td>1</td>\n",
       "      <td>0</td>\n",
       "      <td>1.00000</td>\n",
       "      <td>-0.02401</td>\n",
       "      <td>0.94140</td>\n",
       "      <td>0.06531</td>\n",
       "      <td>0.92106</td>\n",
       "      <td>-0.23255</td>\n",
       "      <td>0.77152</td>\n",
       "      <td>-0.16399</td>\n",
       "      <td>...</td>\n",
       "      <td>-0.65158</td>\n",
       "      <td>0.13290</td>\n",
       "      <td>-0.53206</td>\n",
       "      <td>0.02431</td>\n",
       "      <td>-0.62197</td>\n",
       "      <td>-0.05707</td>\n",
       "      <td>-0.59573</td>\n",
       "      <td>-0.04608</td>\n",
       "      <td>-0.65697</td>\n",
       "      <td>good</td>\n",
       "    </tr>\n",
       "  </tbody>\n",
       "</table>\n",
       "<p>5 rows × 35 columns</p>\n",
       "</div>"
      ],
      "text/plain": [
       "   V1  V2       V3       V4       V5       V6       V7       V8       V9  \\\n",
       "1   1   0  0.99539 -0.05889  0.85243  0.02306  0.83398 -0.37708  1.00000   \n",
       "2   1   0  1.00000 -0.18829  0.93035 -0.36156 -0.10868 -0.93597  1.00000   \n",
       "3   1   0  1.00000 -0.03365  1.00000  0.00485  1.00000 -0.12062  0.88965   \n",
       "4   1   0  1.00000 -0.45161  1.00000  1.00000  0.71216 -1.00000  0.00000   \n",
       "5   1   0  1.00000 -0.02401  0.94140  0.06531  0.92106 -0.23255  0.77152   \n",
       "\n",
       "       V10  ...      V26      V27      V28      V29      V30      V31  \\\n",
       "1  0.03760  ... -0.51171  0.41078 -0.46168  0.21266 -0.34090  0.42267   \n",
       "2 -0.04549  ... -0.26569 -0.20468 -0.18401 -0.19040 -0.11593 -0.16626   \n",
       "3  0.01198  ... -0.40220  0.58984 -0.22145  0.43100 -0.17365  0.60436   \n",
       "4  0.00000  ...  0.90695  0.51613  1.00000  1.00000 -0.20099  0.25682   \n",
       "5 -0.16399  ... -0.65158  0.13290 -0.53206  0.02431 -0.62197 -0.05707   \n",
       "\n",
       "       V32      V33      V34  Class  \n",
       "1 -0.54487  0.18641 -0.45300   good  \n",
       "2 -0.06288 -0.13738 -0.02447    bad  \n",
       "3 -0.24180  0.56045 -0.38238   good  \n",
       "4  1.00000 -0.32382  1.00000    bad  \n",
       "5 -0.59573 -0.04608 -0.65697   good  \n",
       "\n",
       "[5 rows x 35 columns]"
      ]
     },
     "metadata": {},
     "output_type": "display_data"
    }
   ],
   "source": [
    "import pandas as pd\n",
    "from IPython.display import display\n",
    "\n",
    "# datanın yüklenmesi.\n",
    "ion = pd.read_csv('ion.csv', index_col=0)\n",
    "display(ion.head())\n",
    "\n",
    "# veri setinin kopyalanarak tahmin için 1 ve 0 etiketlerinin oluşturulması.\n",
    "df = ion.copy()\n",
    "df['Class'] = df['Class'].map({'good': 0, 'bad': 1})\n",
    "\n",
    "# veri setinin eğitim ve valid. olarak ayrılması.\n",
    "df_train = df.sample(frac=0.7, random_state=0)\n",
    "df_valid = df.drop(df_train.index)\n",
    "\n",
    "# scaling işleminin yapılması.\n",
    "max_ = df_train.max(axis=0)\n",
    "min_ = df_train.min(axis=0)\n",
    "df_train = (df_train - min_) / (max_ - min_)\n",
    "df_valid = (df_valid - min_) / (max_ - min_)\n",
    "df_train.dropna(axis=1, inplace=True) \n",
    "df_valid.dropna(axis=1, inplace=True)\n",
    "\n",
    "# sınıf tahmini için ayarlama.\n",
    "X_train = df_train.drop('Class', axis=1)\n",
    "X_valid = df_valid.drop('Class', axis=1)\n",
    "y_train = df_train['Class']\n",
    "y_valid = df_valid['Class']"
   ]
  },
  {
   "cell_type": "markdown",
   "id": "1e729747",
   "metadata": {},
   "source": [
    "Modelimizi regresyon görevleri için yaptığımız gibi tanımlayacağız, ancak bir farkla.Son katmanda bir 'sigmoid' aktivasyonu bulunur, böylece model sınıf olasılıkları üretecektir."
   ]
  },
  {
   "cell_type": "code",
   "execution_count": 34,
   "id": "514a3b31",
   "metadata": {},
   "outputs": [],
   "source": [
    "from tensorflow import keras\n",
    "from tensorflow.keras import layers\n",
    "\n",
    "model = keras.Sequential([\n",
    "    layers.Dense(4, activation='relu', input_shape=[33]), # tahmin edeceğimiz iki sınıf var. 35 kolondan iki sınıfı attık. 33 kolonu input olarak verdik.\n",
    "    layers.Dense(4, activation='relu'),    \n",
    "    layers.Dense(1, activation='sigmoid'), # regression ağlarından farklı olarak olasılıksal bir değer almak için çıkış katmanına sigmoid aktivasyon fn'unu ekledik.\n",
    "])"
   ]
  },
  {
   "cell_type": "code",
   "execution_count": 35,
   "id": "9d844ceb",
   "metadata": {},
   "outputs": [],
   "source": [
    "# loss ve optimizer'in eklenmesi.\n",
    "model.compile(\n",
    "    optimizer='adam',\n",
    "    loss='binary_crossentropy', # binary sınıflandırma olduğuna dikka etmek gerekir. birden fazla sınıf varsa farklı crossentropy kullanılır.\n",
    "    metrics=['binary_accuracy'],\n",
    ")"
   ]
  },
  {
   "cell_type": "code",
   "execution_count": 36,
   "id": "415dc154",
   "metadata": {},
   "outputs": [],
   "source": [
    "# modelin eğitimi ve testi.\n",
    "# bu gibi özel problemler fazla epoch kullanmak ister.biz kolaylık olması adına erken bir early stopping ekledik.\n",
    "\n",
    "early_stopping = keras.callbacks.EarlyStopping(\n",
    "    patience=10,\n",
    "    min_delta=0.001,\n",
    "    restore_best_weights=True,\n",
    ")\n",
    "\n",
    "history = model.fit(\n",
    "    X_train, y_train,\n",
    "    validation_data=(X_valid, y_valid),\n",
    "    batch_size=512,\n",
    "    epochs=1000,\n",
    "    callbacks=[early_stopping],\n",
    "    verbose=0, \n",
    ")"
   ]
  },
  {
   "cell_type": "code",
   "execution_count": 38,
   "id": "86310211",
   "metadata": {},
   "outputs": [
    {
     "name": "stdout",
     "output_type": "stream",
     "text": [
      "En iyi doğrulama kaybı: 0.2597\n",
      "En iyi doğruluk oranı: 0.8952\n"
     ]
    },
    {
     "data": {
      "image/png": "[encoded data removed]",
      "text/plain": [
       "<Figure size 432x288 with 1 Axes>"
      ]
     },
     "metadata": {},
     "output_type": "display_data"
    },
    {
     "data": {
      "image/png": "[encoded data removed]",
      "text/plain": [
       "<Figure size 432x288 with 1 Axes>"
      ]
     },
     "metadata": {},
     "output_type": "display_data"
    }
   ],
   "source": [
    "# öğrenme eğrilerini inceleyelim. ayrıca doğrulama setinden elde ettiğimiz loss ve accuracy için en iyi değerleri inceleyeceğiz.\n",
    "# early stopping ağırlıkları bu değerlere sahip olanlara geri getirecektir.\n",
    "\n",
    "history_df = pd.DataFrame(history.history)\n",
    "history_df.loc[5:, ['loss', 'val_loss']].plot()\n",
    "history_df.loc[5:, ['binary_accuracy', 'val_binary_accuracy']].plot()\n",
    "\n",
    "print((\"En iyi doğrulama kaybı: {:0.4f}\" +\\\n",
    "      \"\\nEn iyi doğruluk oranı: {:0.4f}\")\\\n",
    "      .format(history_df['val_loss'].min(), \n",
    "              history_df['val_binary_accuracy'].max()))"
   ]
  },
  {
   "cell_type": "code",
   "execution_count": null,
   "id": "e8bfea12",
   "metadata": {},
   "outputs": [],
   "source": []
  }
 ],
 "metadata": {
  "kernelspec": {
   "display_name": "Python 3 (ipykernel)",
   "language": "python",
   "name": "python3"
  },
  "language_info": {
   "codemirror_mode": {
    "name": "ipython",
    "version": 3
   },
   "file_extension": ".py",
   "mimetype": "text/x-python",
   "name": "python",
   "nbconvert_exporter": "python",
   "pygments_lexer": "ipython3",
   "version": "3.9.7"
  }
 },
 "nbformat": 4,
 "nbformat_minor": 5
}
